{
 "cells": [
  {
   "cell_type": "markdown",
   "id": "434e66f7",
   "metadata": {},
   "source": [
    "# Homework #1 - Drive duration prediction\n",
    "\n"
   ]
  },
  {
   "cell_type": "code",
   "execution_count": null,
   "id": "b2bd82d7",
   "metadata": {},
   "outputs": [],
   "source": [
    "!python -V"
   ]
  },
  {
   "cell_type": "code",
   "execution_count": null,
   "id": "41062d8a",
   "metadata": {},
   "outputs": [],
   "source": [
    "import pickle\n",
    "\n",
    "import matplotlib.pyplot as plt\n",
    "import pandas as pd\n",
    "import seaborn as sns\n",
    "from sklearn.feature_extraction import DictVectorizer\n",
    "from sklearn.linear_model import (\n",
    "    LinearRegression,\n",
    "    Lasso,\n",
    "    Ridge,\n",
    ")\n",
    "from sklearn.metrics import root_mean_squared_error"
   ]
  },
  {
   "cell_type": "code",
   "execution_count": null,
   "id": "076db9b8",
   "metadata": {},
   "outputs": [],
   "source": [
    "df = pd.read_parquet('../../data/yellow_tripdata_2023-01.parquet')\n",
    "print(df.info())\n",
    "df.head()"
   ]
  },
  {
   "cell_type": "markdown",
   "id": "55e92847",
   "metadata": {},
   "source": [
    "Used columns"
   ]
  },
  {
   "cell_type": "code",
   "execution_count": null,
   "id": "e09afdcb",
   "metadata": {},
   "outputs": [],
   "source": [
    "COL_DURATION = \"duration\"\n",
    "COL_PICKUP_LOC = 'PULocationID'\n",
    "COL_DROPOFF_LOC = 'DOLocationID'"
   ]
  },
  {
   "cell_type": "code",
   "execution_count": null,
   "id": "4062482f",
   "metadata": {},
   "outputs": [],
   "source": [
    "df[COL_DURATION] = df.tpep_dropoff_datetime - df.tpep_pickup_datetime\n",
    "df[COL_DURATION] = df[COL_DURATION].apply(lambda td: td.total_seconds() / 60)\n",
    "\n",
    "print(f\"base metrics for duration (min):\")\n",
    "print(f\"* mean:{df[COL_DURATION].mean()}\")\n",
    "print(f\"* std:{df[COL_DURATION].std() }\")\n",
    "\n",
    "df.describe()"
   ]
  },
  {
   "cell_type": "code",
   "execution_count": null,
   "id": "ef0e43a9",
   "metadata": {},
   "outputs": [],
   "source": [
    "df_ = df[(df[COL_DURATION] >= 1) & (df[COL_DURATION] <= 60)]\n",
    "\n",
    "print(f\"raw data rows: {len(df)}\")\n",
    "print(f\"cleaned data rows: {len(df_)}\")\n",
    "print(f\"rate cleaned rows: {100 * len(df_) / len(df)}%\")"
   ]
  },
  {
   "cell_type": "code",
   "execution_count": null,
   "id": "8e013caf",
   "metadata": {},
   "outputs": [],
   "source": [
    "categorical = [COL_DROPOFF_LOC, COL_PICKUP_LOC]\n",
    "df[categorical] = df[categorical].astype(str)\n",
    "\n",
    "df.head()"
   ]
  },
  {
   "cell_type": "code",
   "execution_count": null,
   "id": "4bbde53c",
   "metadata": {},
   "outputs": [],
   "source": [
    "train_dicts = df[categorical].to_dict(orient='records')\n",
    "\n",
    "dv = DictVectorizer()\n",
    "X_train = dv.fit_transform(train_dicts)\n",
    "\n",
    "print(X_train.shape)"
   ]
  },
  {
   "cell_type": "code",
   "execution_count": null,
   "id": "116ff0cc",
   "metadata": {},
   "outputs": [],
   "source": [
    "target = COL_DURATION\n",
    "y_train = df[target].values\n",
    "\n",
    "print(len(y_train))"
   ]
  },
  {
   "cell_type": "code",
   "execution_count": null,
   "id": "2b23f390",
   "metadata": {},
   "outputs": [],
   "source": [
    "lr = LinearRegression()\n",
    "lr.fit(X_train, y_train)\n",
    "\n",
    "y_pred = lr.predict(X_train)\n",
    "\n",
    "root_mean_squared_error(y_train, y_pred)"
   ]
  },
  {
   "cell_type": "code",
   "execution_count": null,
   "id": "b134c97b",
   "metadata": {},
   "outputs": [],
   "source": [
    "sns.histplot(y_pred, label='prediction')\n",
    "sns.histplot(y_train, label='actual')\n",
    "\n",
    "plt.legend()"
   ]
  },
  {
   "cell_type": "code",
   "execution_count": null,
   "id": "f9e6479e",
   "metadata": {},
   "outputs": [],
   "source": [
    "def read_dataframe(filename):\n",
    "    if filename.endswith('.csv'):\n",
    "        df = pd.read_csv(filename)\n",
    "\n",
    "        df.tpep_dropoff_datetime = pd.to_datetime(df.tpep_dropoff_datetime)\n",
    "        df.tpep_pickup_datetime = pd.to_datetime(df.tpep_pickup_datetime)\n",
    "    elif filename.endswith('.parquet'):\n",
    "        df = pd.read_parquet(filename)\n",
    "\n",
    "    df[COL_DURATION] = df.tpep_dropoff_datetime - df.tpep_pickup_datetime\n",
    "    df[COL_DURATION] = df[COL_DURATION].apply(lambda td: td.total_seconds() / 60)\n",
    "\n",
    "    df = df[(df[COL_DURATION] >= 1) & (df[COL_DURATION] <= 60)]\n",
    "\n",
    "    categorical = [COL_DROPOFF_LOC, COL_PICKUP_LOC]\n",
    "    df[categorical] = df[categorical].astype(str)\n",
    "    \n",
    "    return df"
   ]
  },
  {
   "cell_type": "code",
   "execution_count": null,
   "id": "8029eba0",
   "metadata": {},
   "outputs": [],
   "source": [
    "df_val = read_dataframe('../../data/yellow_tripdata_2023-02.parquet')"
   ]
  },
  {
   "cell_type": "code",
   "execution_count": null,
   "id": "f6f2f0eb",
   "metadata": {},
   "outputs": [],
   "source": [
    "len(df_val)"
   ]
  },
  {
   "cell_type": "code",
   "execution_count": null,
   "id": "c5cbfc25",
   "metadata": {},
   "outputs": [],
   "source": [
    "val_dicts = df_val[categorical].to_dict(orient='records')\n",
    "X_val = dv.transform(val_dicts)"
   ]
  },
  {
   "cell_type": "code",
   "execution_count": null,
   "id": "1e9fb68b",
   "metadata": {},
   "outputs": [],
   "source": [
    "y_val = df_val[target].values"
   ]
  },
  {
   "cell_type": "code",
   "execution_count": null,
   "id": "429e2394",
   "metadata": {},
   "outputs": [],
   "source": [
    "y_pred = lr.predict(X_val)\n",
    "\n",
    "root_mean_squared_error(y_val, y_pred)"
   ]
  }
 ],
 "metadata": {
  "kernelspec": {
   "display_name": "Python 3 (ipykernel)",
   "language": "python",
   "name": "python3"
  },
  "language_info": {
   "codemirror_mode": {
    "name": "ipython",
    "version": 3
   },
   "file_extension": ".py",
   "mimetype": "text/x-python",
   "name": "python",
   "nbconvert_exporter": "python",
   "pygments_lexer": "ipython3",
   "version": "3.10.8"
  }
 },
 "nbformat": 4,
 "nbformat_minor": 5
}
